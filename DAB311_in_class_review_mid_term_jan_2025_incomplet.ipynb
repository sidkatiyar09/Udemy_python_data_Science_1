{
  "nbformat": 4,
  "nbformat_minor": 0,
  "metadata": {
    "colab": {
      "provenance": [],
      "authorship_tag": "ABX9TyPGILmNmwi57uVG+JhsNAbx",
      "include_colab_link": true
    },
    "kernelspec": {
      "name": "python3",
      "display_name": "Python 3"
    },
    "language_info": {
      "name": "python"
    }
  },
  "cells": [
    {
      "cell_type": "markdown",
      "metadata": {
        "id": "view-in-github",
        "colab_type": "text"
      },
      "source": [
        "<a href=\"https://colab.research.google.com/github/sidkatiyar09/Udemy_python_data_Science_1/blob/main/DAB311_in_class_review_mid_term_jan_2025_incomplet.ipynb\" target=\"_parent\"><img src=\"https://colab.research.google.com/assets/colab-badge.svg\" alt=\"Open In Colab\"/></a>"
      ]
    },
    {
      "cell_type": "code",
      "execution_count": null,
      "metadata": {
        "id": "fxEORFIsiqIr"
      },
      "outputs": [],
      "source": [
        "import tensorflow"
      ]
    },
    {
      "cell_type": "code",
      "source": [
        "from tensorflow import keras"
      ],
      "metadata": {
        "id": "8QG7EjA5iv10"
      },
      "execution_count": null,
      "outputs": []
    },
    {
      "cell_type": "code",
      "source": [
        "from tensorflow.keras import layers"
      ],
      "metadata": {
        "id": "WdMKbLGxi0ZN"
      },
      "execution_count": null,
      "outputs": []
    },
    {
      "cell_type": "code",
      "source": [
        "from tensorflow.models import Sequential"
      ],
      "metadata": {
        "colab": {
          "base_uri": "https://localhost:8080/",
          "height": 314
        },
        "id": "kRWPOyxEi7kt",
        "outputId": "7e84d430-f903-46be-a592-65e25d6e1a39"
      },
      "execution_count": null,
      "outputs": [
        {
          "output_type": "error",
          "ename": "ModuleNotFoundError",
          "evalue": "No module named 'tensorflow.models'",
          "traceback": [
            "\u001b[0;31m---------------------------------------------------------------------------\u001b[0m",
            "\u001b[0;31mModuleNotFoundError\u001b[0m                       Traceback (most recent call last)",
            "\u001b[0;32m<ipython-input-5-f34d4af1177f>\u001b[0m in \u001b[0;36m<cell line: 0>\u001b[0;34m()\u001b[0m\n\u001b[0;32m----> 1\u001b[0;31m \u001b[0;32mfrom\u001b[0m \u001b[0mtensorflow\u001b[0m\u001b[0;34m.\u001b[0m\u001b[0mmodels\u001b[0m \u001b[0;32mimport\u001b[0m \u001b[0mSequential\u001b[0m\u001b[0;34m\u001b[0m\u001b[0;34m\u001b[0m\u001b[0m\n\u001b[0m",
            "\u001b[0;31mModuleNotFoundError\u001b[0m: No module named 'tensorflow.models'",
            "",
            "\u001b[0;31m---------------------------------------------------------------------------\u001b[0;32m\nNOTE: If your import is failing due to a missing package, you can\nmanually install dependencies using either !pip or !apt.\n\nTo view examples of installing some common dependencies, click the\n\"Open Examples\" button below.\n\u001b[0;31m---------------------------------------------------------------------------\u001b[0m\n"
          ],
          "errorDetails": {
            "actions": [
              {
                "action": "open_url",
                "actionText": "Open Examples",
                "url": "/notebooks/snippets/importing_libraries.ipynb"
              }
            ]
          }
        }
      ]
    },
    {
      "cell_type": "code",
      "source": [],
      "metadata": {
        "id": "dYnsXSVUjGv0"
      },
      "execution_count": null,
      "outputs": []
    },
    {
      "cell_type": "code",
      "source": [],
      "metadata": {
        "id": "SvzfpPExjFMg"
      },
      "execution_count": null,
      "outputs": []
    },
    {
      "cell_type": "markdown",
      "source": [],
      "metadata": {
        "id": "UhktTT9risF4"
      }
    },
    {
      "cell_type": "code",
      "source": [
        "network = Sequential(\n",
        "                Input(shape=(28, 28)),\n",
        "                Dense(512, activation='relu')\n",
        "                Dense(10, activation='sigmoid')\n",
        ")\n",
        "\n",
        "network.compile(optimizer='rmsprop',\n",
        "                loss='categorical_crossentropy'       #'mean_squared_error',\n",
        "                metrics=['accuracy'])\n",
        "\n",
        "network.fit(train_images, train_labels, epochs=7, batch_size=64)     #  (test_images, test_labels, epochs=7, batch_size=64)"
      ],
      "metadata": {
        "id": "X9c-jIIHis8D"
      },
      "execution_count": null,
      "outputs": []
    },
    {
      "cell_type": "code",
      "source": [],
      "metadata": {
        "id": "DBgjvCIRis9w"
      },
      "execution_count": null,
      "outputs": []
    },
    {
      "cell_type": "markdown",
      "source": [
        "network = Sequential([\n",
        "                Input(shape=(28* 28,)),\n",
        "                Dense(512, activation='relu'),\n",
        "                Dense(10, activation='softmax')\n",
        "])\n",
        "\n",
        "network.compile(optimizer='rmsprop',\n",
        "                loss='mean_squared_error',\n",
        "                metrics=['accuracy'])\n",
        "\n",
        "network.fit(test_images, test_labels, epochs=7, batch_size=64)"
      ],
      "metadata": {
        "id": "lvttvtvAjNeF"
      }
    },
    {
      "cell_type": "code",
      "source": [],
      "metadata": {
        "id": "1ZJyXj84itBJ"
      },
      "execution_count": null,
      "outputs": []
    },
    {
      "cell_type": "markdown",
      "source": [
        "#%% md\n",
        "13. What is the difference between the network used for training and the network used for testing?\n",
        "14. What two pieces of information does the derivative tell us with respect to adjusting the parameters of the network?\n",
        "15. Describe a straightforward method that could be used to update the weights in a neural network.\n",
        "16. When we say a network *learns*, what does that mean? How is this connected to *training* a network?\n",
        "17. If a network is fully connected, what does that mean?\n",
        "18. What is the difference between parameters and hyperparameters?\n",
        "19. Write Keras code to create a fully-connected network that has MNIST-like images that are 64x64 pixels, the network has 3 layers with [ 64,  64, 256] neurons, respectively, and activations = sigmoid. The output layer has 3 neuron(s) and a softmax activation.\n",
        "20. Why do we usually need training, validation, and test data sets?"
      ],
      "metadata": {
        "id": "owR4ilkFozNO"
      }
    },
    {
      "cell_type": "code",
      "source": [
        "\n",
        "model = Sequential([\n",
        "    Input(shape=(64* 64,)),\n",
        "    Dense(64, activation='sigmoid'),\n",
        "    Dense(64, activation='sigmoid'),\n",
        "    Dense(256, activation='sigmoid'),\n",
        "    Dense(3, activation='softmax')\n",
        "])\n",
        "\n"
      ],
      "metadata": {
        "id": "8yUVyG2Po1GB"
      },
      "execution_count": null,
      "outputs": []
    }
  ]
}